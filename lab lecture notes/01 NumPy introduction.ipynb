{
 "cells": [
  {
   "cell_type": "markdown",
   "id": "0300db39-9e0e-4703-8d47-174ccaf38d4d",
   "metadata": {
    "tags": []
   },
   "source": [
    "NumPy (*numerical python*) is a useful library optimized for numerical operations"
   ]
  },
  {
   "cell_type": "code",
   "execution_count": 5,
   "id": "f786e861-b904-4047-bba2-5208592717e4",
   "metadata": {
    "tags": []
   },
   "outputs": [],
   "source": [
    "import numpy as np"
   ]
  },
  {
   "cell_type": "markdown",
   "id": "c5c42317-1ec2-4fd7-8fc1-6d39ba15aec7",
   "metadata": {
    "tags": []
   },
   "source": [
    "Creating a simple array."
   ]
  },
  {
   "cell_type": "code",
   "execution_count": 6,
   "id": "85131c22-7edb-4fa7-bb91-e2514b42c812",
   "metadata": {
    "tags": []
   },
   "outputs": [
    {
     "name": "stdout",
     "output_type": "stream",
     "text": [
      "[1 2 3 4]\n"
     ]
    }
   ],
   "source": [
    "x = np.array([1,2,3,4], dtype=np.uint32)\n",
    "print(x)"
   ]
  },
  {
   "cell_type": "markdown",
   "id": "c477ef52-6ce9-4201-baae-bd2113279566",
   "metadata": {
    "tags": []
   },
   "source": [
    "An array of zeros"
   ]
  },
  {
   "cell_type": "code",
   "execution_count": 18,
   "id": "5cca766d-f6d7-4169-be88-4a3877319519",
   "metadata": {
    "tags": []
   },
   "outputs": [
    {
     "data": {
      "text/plain": [
       "array([0, 0, 0, 0, 0, 0, 0, 0, 0, 0], dtype=uint8)"
      ]
     },
     "execution_count": 18,
     "metadata": {},
     "output_type": "execute_result"
    }
   ],
   "source": [
    "np.zeros(10, dtype=np.uint8)"
   ]
  },
  {
   "cell_type": "code",
   "execution_count": 19,
   "id": "a1ef05b2-3343-4541-ab19-8cadde1b2f12",
   "metadata": {
    "tags": []
   },
   "outputs": [
    {
     "data": {
      "text/plain": [
       "array([[0, 0, 0],\n",
       "       [0, 0, 0]])"
      ]
     },
     "execution_count": 19,
     "metadata": {},
     "output_type": "execute_result"
    }
   ],
   "source": [
    "np.zeros((2,3), dtype=int)"
   ]
  },
  {
   "cell_type": "code",
   "execution_count": 20,
   "id": "88aa5bac-133d-4038-a5fd-f4d861b1c6dc",
   "metadata": {
    "tags": []
   },
   "outputs": [
    {
     "data": {
      "text/plain": [
       "array([[1, 1, 1, 1, 1],\n",
       "       [1, 1, 1, 1, 1],\n",
       "       [1, 1, 1, 1, 1]])"
      ]
     },
     "execution_count": 20,
     "metadata": {},
     "output_type": "execute_result"
    }
   ],
   "source": [
    "np.ones((3,5), dtype=int)"
   ]
  },
  {
   "cell_type": "code",
   "execution_count": 21,
   "id": "ea3b6fa7-f9a8-4a24-bf12-e613b012c722",
   "metadata": {
    "tags": []
   },
   "outputs": [
    {
     "data": {
      "text/plain": [
       "array([[15, 15, 15, 15, 15],\n",
       "       [15, 15, 15, 15, 15],\n",
       "       [15, 15, 15, 15, 15]])"
      ]
     },
     "execution_count": 21,
     "metadata": {},
     "output_type": "execute_result"
    }
   ],
   "source": [
    "np.full((3,5), 15)"
   ]
  },
  {
   "cell_type": "code",
   "execution_count": 22,
   "id": "b092fddb-80a4-442f-9805-8749509ed4b3",
   "metadata": {
    "tags": []
   },
   "outputs": [
    {
     "data": {
      "text/plain": [
       "array([0, 2, 4, 6, 8])"
      ]
     },
     "execution_count": 22,
     "metadata": {},
     "output_type": "execute_result"
    }
   ],
   "source": [
    "np.arange(0,10,2)"
   ]
  },
  {
   "cell_type": "code",
   "execution_count": 23,
   "id": "c69d8101-0b88-4575-b4e4-b038998f03bd",
   "metadata": {
    "tags": []
   },
   "outputs": [
    {
     "data": {
      "text/plain": [
       "array([0.  , 0.25, 0.5 , 0.75, 1.  ])"
      ]
     },
     "execution_count": 23,
     "metadata": {},
     "output_type": "execute_result"
    }
   ],
   "source": [
    "np.linspace(0,1,5)"
   ]
  },
  {
   "cell_type": "code",
   "execution_count": 24,
   "id": "eb55c6a4-3d1a-4423-9484-8cd126f4f4fd",
   "metadata": {
    "tags": []
   },
   "outputs": [
    {
     "data": {
      "text/plain": [
       "array([[0.76891373, 0.02246956, 0.02655507],\n",
       "       [0.83487696, 0.91054031, 0.18162034],\n",
       "       [0.66008232, 0.74567292, 0.75326538]])"
      ]
     },
     "execution_count": 24,
     "metadata": {},
     "output_type": "execute_result"
    }
   ],
   "source": [
    "np.random.random((3,3))"
   ]
  },
  {
   "cell_type": "markdown",
   "id": "5eddd69c-d903-4e70-a9fe-4ecc25656382",
   "metadata": {},
   "source": [
    "Create a 3x3 matrix of normally distributed values with mean of 0 and standard deviation of 0."
   ]
  },
  {
   "cell_type": "code",
   "execution_count": 25,
   "id": "a1b38b7d-1279-49eb-a4fa-5410194bf10f",
   "metadata": {
    "tags": []
   },
   "outputs": [
    {
     "data": {
      "text/plain": [
       "array([[-1.89141094,  0.94449073,  0.62421335],\n",
       "       [ 1.86218393,  0.60833553,  1.39591501],\n",
       "       [ 0.30724954,  0.78404346,  0.0584529 ]])"
      ]
     },
     "execution_count": 25,
     "metadata": {},
     "output_type": "execute_result"
    }
   ],
   "source": [
    "np.random.normal(0, 1, (3,3))"
   ]
  },
  {
   "cell_type": "code",
   "execution_count": 26,
   "id": "b305fc72-2959-4b25-a9fe-f09109ea9958",
   "metadata": {
    "tags": []
   },
   "outputs": [
    {
     "data": {
      "text/plain": [
       "array([[ 5,  5, 19, 14, 15],\n",
       "       [ 0,  0,  6,  9, 12],\n",
       "       [10, 19,  4, 12,  7]])"
      ]
     },
     "execution_count": 26,
     "metadata": {},
     "output_type": "execute_result"
    }
   ],
   "source": [
    "np.random.randint(0, 20, (3,5))"
   ]
  },
  {
   "cell_type": "code",
   "execution_count": 27,
   "id": "0dd949fd-c425-4377-92c6-62d575d71434",
   "metadata": {
    "tags": []
   },
   "outputs": [
    {
     "data": {
      "text/plain": [
       "array([[1., 0., 0., 0.],\n",
       "       [0., 1., 0., 0.],\n",
       "       [0., 0., 1., 0.],\n",
       "       [0., 0., 0., 1.]])"
      ]
     },
     "execution_count": 27,
     "metadata": {},
     "output_type": "execute_result"
    }
   ],
   "source": [
    "np.eye(4) #identity matrix"
   ]
  },
  {
   "cell_type": "code",
   "execution_count": 28,
   "id": "b7d7824d-c98e-4270-ae17-d0383ef92236",
   "metadata": {
    "tags": []
   },
   "outputs": [
    {
     "data": {
      "text/plain": [
       "array([[1.89141094, 0.94449073, 0.62421335],\n",
       "       [1.86218393, 0.60833553, 1.39591501],\n",
       "       [0.30724954, 0.78404346, 0.0584529 ]])"
      ]
     },
     "execution_count": 28,
     "metadata": {},
     "output_type": "execute_result"
    }
   ],
   "source": [
    "np.empty((3,3))"
   ]
  },
  {
   "cell_type": "markdown",
   "id": "3ea7b9ea-dd47-433b-8b02-8fe727670d9e",
   "metadata": {
    "tags": []
   },
   "source": [
    "Notice how np.empty((m,n)) takes random values in memory and places them into the matrix."
   ]
  }
 ],
 "metadata": {
  "kernelspec": {
   "display_name": "Python 3 (ipykernel)",
   "language": "python",
   "name": "python3"
  },
  "language_info": {
   "codemirror_mode": {
    "name": "ipython",
    "version": 3
   },
   "file_extension": ".py",
   "mimetype": "text/x-python",
   "name": "python",
   "nbconvert_exporter": "python",
   "pygments_lexer": "ipython3",
   "version": "3.11.4"
  }
 },
 "nbformat": 4,
 "nbformat_minor": 5
}

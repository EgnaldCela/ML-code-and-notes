{
 "cells": [
  {
   "cell_type": "markdown",
   "id": "15f497f4-d30d-4bf2-97ff-ff18aa72d44a",
   "metadata": {
    "tags": []
   },
   "source": [
    "# Bitwise operators "
   ]
  },
  {
   "cell_type": "code",
   "execution_count": 1,
   "id": "4676eb01-9f6f-443d-9e0b-1af9e616d5fd",
   "metadata": {
    "tags": []
   },
   "outputs": [],
   "source": [
    "import cv2\n",
    "import numpy as np"
   ]
  },
  {
   "cell_type": "code",
   "execution_count": 12,
   "id": "52730b08-ae38-4d39-9a02-1135f74d336d",
   "metadata": {
    "tags": []
   },
   "outputs": [],
   "source": [
    "# load a color image\n",
    "img = cv2.imread('C:/Users/USER/Desktop/AI Lab/Data/01-Data/lena.png')\n",
    "\n",
    "#create a binary mask\n",
    "mask = np.zeros(img.shape, dtype=np.uint8)\n",
    "mask = cv2.rectangle(mask, (100,100), (250,250), (255,255,255), -1)\n",
    "\n",
    "cv2.imshow('mask', mask)\n",
    "cv2.waitKey(0)\n",
    "cv2.destroyAllWindows()\n"
   ]
  },
  {
   "cell_type": "markdown",
   "id": "362332da-c77d-46e8-915f-39b25b11317a",
   "metadata": {},
   "source": [
    "All the black pixels are the pixels not needed in our task in a binary mask. The white pixels are the useful ones. This image shall be overlapped from the image that we want information from. We apply the mask to the image in different ways by using bitwise operators. (or, and, xor)."
   ]
  },
  {
   "cell_type": "code",
   "execution_count": 23,
   "id": "0509aaa1-b0e3-4404-b355-08a8c8a50c43",
   "metadata": {
    "tags": []
   },
   "outputs": [],
   "source": [
    "# AND \n",
    "and_img = cv2.bitwise_and(img, mask)\n",
    "cv2.imshow('AND', and_img)\n",
    "cv2.waitKey(0)\n",
    "cv2.destroyAllWindows()"
   ]
  },
  {
   "cell_type": "markdown",
   "id": "9da09b7d-73e6-45f4-8c76-49791460516b",
   "metadata": {},
   "source": [
    "If the pixels of two images are both different from 0 the lower of the two will be chosen. Otherwise 0 (black image)."
   ]
  },
  {
   "cell_type": "code",
   "execution_count": 22,
   "id": "361c40d2-8c2e-44a0-ba0e-5c61b13259ae",
   "metadata": {
    "tags": []
   },
   "outputs": [],
   "source": [
    "# OR\n",
    "or_img = cv2.bitwise_or(img, mask)\n",
    "cv2.imshow('OR', or_img)\n",
    "cv2.waitKey(0)\n",
    "cv2.destroyAllWindows()\n"
   ]
  },
  {
   "cell_type": "markdown",
   "id": "f00dd0bb-a7b3-4c1f-be07-6b5d741982b9",
   "metadata": {},
   "source": [
    "Black pixel only iff that pixel is black in both images."
   ]
  },
  {
   "cell_type": "code",
   "execution_count": 19,
   "id": "425fcfdf-f685-4a48-a900-e72f6467ccad",
   "metadata": {
    "tags": []
   },
   "outputs": [],
   "source": [
    "# XOR\n",
    "xor_img = cv2.bitwise_xor(img, mask)\n",
    "cv2.imshow('XOR', xor_img)\n",
    "cv2.waitKey(0)\n",
    "cv2.destroyAllWindows()"
   ]
  },
  {
   "cell_type": "code",
   "execution_count": 20,
   "id": "93981024-48d3-4208-bcb1-f17ba245b644",
   "metadata": {
    "tags": []
   },
   "outputs": [],
   "source": [
    "# NOT\n",
    "not_img = cv2.bitwise_not(mask)\n",
    "cv2.imshow('NOT', not_img)\n",
    "cv2.waitKey(0)\n",
    "cv2.destroyAllWindows()"
   ]
  }
 ],
 "metadata": {
  "kernelspec": {
   "display_name": "Python 3 (ipykernel)",
   "language": "python",
   "name": "python3"
  },
  "language_info": {
   "codemirror_mode": {
    "name": "ipython",
    "version": 3
   },
   "file_extension": ".py",
   "mimetype": "text/x-python",
   "name": "python",
   "nbconvert_exporter": "python",
   "pygments_lexer": "ipython3",
   "version": "3.11.4"
  }
 },
 "nbformat": 4,
 "nbformat_minor": 5
}

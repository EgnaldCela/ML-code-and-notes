{
 "cells": [
  {
   "cell_type": "markdown",
   "id": "29618b96-4828-40f1-9c03-73bd71102bc7",
   "metadata": {},
   "source": [
    "# Natural Language Processing (NLP)"
   ]
  },
  {
   "cell_type": "code",
   "execution_count": 1,
   "id": "8f998a01-df9c-4af7-bae9-a0244273297a",
   "metadata": {
    "tags": []
   },
   "outputs": [
    {
     "name": "stderr",
     "output_type": "stream",
     "text": [
      "[nltk_data] Downloading package omw-1.4 to\n",
      "[nltk_data]     C:\\Users\\USER\\AppData\\Roaming\\nltk_data...\n",
      "[nltk_data] Error loading tagasets: Package 'tagasets' not found in\n",
      "[nltk_data]     index\n",
      "[nltk_data] Downloading package punkt to\n",
      "[nltk_data]     C:\\Users\\USER\\AppData\\Roaming\\nltk_data...\n",
      "[nltk_data]   Unzipping tokenizers\\punkt.zip.\n",
      "[nltk_data] Downloading package stopwords to\n",
      "[nltk_data]     C:\\Users\\USER\\AppData\\Roaming\\nltk_data...\n",
      "[nltk_data]   Unzipping corpora\\stopwords.zip.\n",
      "[nltk_data] Downloading package averaged_perceptron_tagger to\n",
      "[nltk_data]     C:\\Users\\USER\\AppData\\Roaming\\nltk_data...\n",
      "[nltk_data]   Unzipping taggers\\averaged_perceptron_tagger.zip.\n",
      "[nltk_data] Downloading package wordnet to\n",
      "[nltk_data]     C:\\Users\\USER\\AppData\\Roaming\\nltk_data...\n"
     ]
    },
    {
     "data": {
      "text/plain": [
       "True"
      ]
     },
     "execution_count": 1,
     "metadata": {},
     "output_type": "execute_result"
    }
   ],
   "source": [
    "import nltk #this is already installed within anaconda \n",
    "\n",
    "nltk.download('omw-1.4')\n",
    "nltk.download('tagasets')\n",
    "nltk.download('punkt')\n",
    "nltk.download('stopwords')\n",
    "nltk.download('averaged_perceptron_tagger')\n",
    "nltk.download('wordnet')\n"
   ]
  },
  {
   "cell_type": "markdown",
   "id": "db16b090-2ff9-45d8-9f0c-54b37ad8c65c",
   "metadata": {},
   "source": [
    "## Introduction to NLP"
   ]
  },
  {
   "cell_type": "markdown",
   "id": "0c3bb81e-235e-470e-b4de-d8469b56e595",
   "metadata": {},
   "source": [
    "NLP is harder than computer vision, due to the issue of finding a good representation for text. NLP is ambiguous. "
   ]
  },
  {
   "cell_type": "code",
   "execution_count": 4,
   "id": "234b20ea-0188-410d-8226-a82be2fbeb64",
   "metadata": {
    "tags": []
   },
   "outputs": [
    {
     "name": "stdout",
     "output_type": "stream",
     "text": [
      "[\"All the speed he took, all the turns he'd taken\"]\n",
      "['All', 'the', 'speed', 'he', 'took', ',', 'all', 'the', 'turns', 'he', \"'d\", 'taken']\n"
     ]
    }
   ],
   "source": [
    "# Tokenizing text\n",
    "# a token does not have to be just a single world, it can be more or less\n",
    "\n",
    "from nltk.tokenize import sent_tokenize, word_tokenize\n",
    "\n",
    "example_string = \"All the speed he took, all the turns he'd taken\"\n",
    "\n",
    "tokenized = sent_tokenize(example_string) #tokenization looks for the full stop\n",
    "w_tokenized = word_tokenize(example_string)\n",
    "print(tokenized)\n",
    "print(w_tokenized)"
   ]
  },
  {
   "cell_type": "code",
   "execution_count": 11,
   "id": "f0851487-f8a2-4479-9bd0-42ff1d42328b",
   "metadata": {
    "tags": []
   },
   "outputs": [
    {
     "name": "stdout",
     "output_type": "stream",
     "text": [
      "[\"'s\", 'leviosa', ',', 'leviosaaaa']\n"
     ]
    }
   ],
   "source": [
    "# stop words, are words you want to ignore because they do not add any meaningful insight to our sentences\n",
    "from nltk.corpus import stopwords\n",
    "\n",
    "example_string = \"It's leviosa, not leviosaaaa\"\n",
    "\n",
    "words = word_tokenize(example_string)\n",
    "\n",
    "# set the language for the stopwords\n",
    "stop_words = set(stopwords.words('english'))\n",
    "filtered_list = []\n",
    "\n",
    "# SUGGESTION: see spacy, it's like sciklit learn but on NLP, you can load pdfs and it analyzes them\n",
    "\n",
    "# let's remove the stop words\n",
    "for word in words:\n",
    "    if word.casefold() not in stop_words: #word.casefold() does not care about upper or lower case\n",
    "        filtered_list.append(word)\n",
    "        \n",
    "print(filtered_list)"
   ]
  },
  {
   "cell_type": "markdown",
   "id": "b292c029-98de-4740-ba28-ae2be6f4aabc",
   "metadata": {},
   "source": [
    "Content words give information about the topic, whereas context words give information about the writing style."
   ]
  },
  {
   "cell_type": "markdown",
   "id": "479452b9-bcd4-4578-8366-4dd8bc5c0fb4",
   "metadata": {},
   "source": [
    "### Stemming"
   ]
  },
  {
   "cell_type": "markdown",
   "id": "d40cdcde-76e1-4e5c-a3b5-e2381d4d134c",
   "metadata": {},
   "source": [
    "Stemming is the process of taking a word and reducing it to its root"
   ]
  },
  {
   "cell_type": "code",
   "execution_count": 12,
   "id": "6fdd828a-a727-490e-971b-46512b648e67",
   "metadata": {
    "tags": []
   },
   "outputs": [],
   "source": [
    "from nltk.stem import PorterStemmer "
   ]
  },
  {
   "cell_type": "code",
   "execution_count": 16,
   "id": "74469a6f-6e58-41cf-96be-e0b7590226c3",
   "metadata": {
    "tags": []
   },
   "outputs": [
    {
     "name": "stdout",
     "output_type": "stream",
     "text": [
      "['the', 'crew', 'of', 'uss', 'discoveri', 'discov', 'mani', 'discoveri', '.', 'discov', 'is', 'what', 'explor', 'do', '.']\n"
     ]
    }
   ],
   "source": [
    "stemmer = PorterStemmer() # stemming depends on stemming algorithm\n",
    "\n",
    "example_string = \"The crew of USS Discovery discovered many discoveries. Discovering is what explorers do.\"\n",
    "\n",
    "words = word_tokenize(example_string)\n",
    "\n",
    "stemmed_words = [stemmer.stem(word) for word in words]\n",
    "\n",
    "print(stemmed_words)"
   ]
  },
  {
   "cell_type": "code",
   "execution_count": null,
   "id": "cd60e38a-0d6b-4849-bc3f-f74b48815eb1",
   "metadata": {},
   "outputs": [],
   "source": []
  }
 ],
 "metadata": {
  "kernelspec": {
   "display_name": "Python 3 (ipykernel)",
   "language": "python",
   "name": "python3"
  },
  "language_info": {
   "codemirror_mode": {
    "name": "ipython",
    "version": 3
   },
   "file_extension": ".py",
   "mimetype": "text/x-python",
   "name": "python",
   "nbconvert_exporter": "python",
   "pygments_lexer": "ipython3",
   "version": "3.12.7"
  }
 },
 "nbformat": 4,
 "nbformat_minor": 5
}

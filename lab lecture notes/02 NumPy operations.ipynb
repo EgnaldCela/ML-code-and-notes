{
 "cells": [
  {
   "cell_type": "code",
   "execution_count": 186,
   "id": "0cd51c0e-d466-435d-987b-824bdfd31dc2",
   "metadata": {
    "tags": []
   },
   "outputs": [],
   "source": [
    "import numpy as np\n",
    "import time"
   ]
  },
  {
   "cell_type": "code",
   "execution_count": 187,
   "id": "7a6354a3-aa72-468c-8352-52fdce69830a",
   "metadata": {
    "tags": []
   },
   "outputs": [],
   "source": [
    "np.random.seed(0) #is a starting number used to generate subsequent random numbers"
   ]
  },
  {
   "cell_type": "code",
   "execution_count": 188,
   "id": "f2f9b8f6-b6bd-46d2-b1aa-7afa87f0e27f",
   "metadata": {
    "tags": []
   },
   "outputs": [],
   "source": [
    "x1 = np.random.randint(10, size=6)"
   ]
  },
  {
   "cell_type": "code",
   "execution_count": 189,
   "id": "52fc5236-d8eb-45d4-b0c3-a5b8b4d97343",
   "metadata": {
    "tags": []
   },
   "outputs": [],
   "source": [
    "x2 = np.random.randint(10, size=(3,4))"
   ]
  },
  {
   "cell_type": "code",
   "execution_count": 190,
   "id": "e4f8b28c-c09f-4604-b049-34148c24e2b1",
   "metadata": {
    "tags": []
   },
   "outputs": [],
   "source": [
    "x3 = np.random.randint(10, size=(3,4,5))"
   ]
  },
  {
   "cell_type": "code",
   "execution_count": 191,
   "id": "3a52161e-cd6f-4ff0-a986-45ef2e2e98c3",
   "metadata": {
    "tags": []
   },
   "outputs": [
    {
     "name": "stdout",
     "output_type": "stream",
     "text": [
      "The dimension is 1\n"
     ]
    }
   ],
   "source": [
    "print(f'The dimension is {x1.ndim}')"
   ]
  },
  {
   "cell_type": "code",
   "execution_count": 192,
   "id": "ab7c9955-d8a5-4e72-a6a9-21faf7941561",
   "metadata": {
    "tags": []
   },
   "outputs": [
    {
     "name": "stdout",
     "output_type": "stream",
     "text": [
      "The shape is (6,)\n"
     ]
    }
   ],
   "source": [
    "print(f'The shape is {x1.shape}')"
   ]
  },
  {
   "cell_type": "code",
   "execution_count": 193,
   "id": "9eff6196-6a28-4ca7-bdcb-33e928049ff4",
   "metadata": {
    "tags": []
   },
   "outputs": [
    {
     "name": "stdout",
     "output_type": "stream",
     "text": [
      "The size is 6\n"
     ]
    }
   ],
   "source": [
    "print(f'The size is {x1.size}')"
   ]
  },
  {
   "cell_type": "markdown",
   "id": "e1704316-9b1a-47db-b0a3-87f3f12fc10e",
   "metadata": {},
   "source": [
    "The shape tells us how many elements we have in each dimension."
   ]
  },
  {
   "cell_type": "code",
   "execution_count": 194,
   "id": "82a7ad42-c2a5-4c11-942f-932a658d479e",
   "metadata": {
    "tags": []
   },
   "outputs": [
    {
     "name": "stdout",
     "output_type": "stream",
     "text": [
      "The dimension is 2\n"
     ]
    }
   ],
   "source": [
    "print(f'The dimension is {x2.ndim}')"
   ]
  },
  {
   "cell_type": "code",
   "execution_count": 195,
   "id": "03c491f5-d84b-4a7c-b155-4eafdb1962c7",
   "metadata": {
    "tags": []
   },
   "outputs": [
    {
     "name": "stdout",
     "output_type": "stream",
     "text": [
      "The shape is (3, 4)\n"
     ]
    }
   ],
   "source": [
    "print(f'The shape is {x2.shape}')"
   ]
  },
  {
   "cell_type": "markdown",
   "id": "3f0d4dce-5036-4f71-800e-24c2b83f5e81",
   "metadata": {},
   "source": [
    "So 3 rows and 4 columns"
   ]
  },
  {
   "cell_type": "code",
   "execution_count": 196,
   "id": "52691d2b-7624-4e23-80e9-a7cc2467932b",
   "metadata": {
    "tags": []
   },
   "outputs": [
    {
     "name": "stdout",
     "output_type": "stream",
     "text": [
      "The size is 12\n"
     ]
    }
   ],
   "source": [
    "print(f'The size is {x2.size}')"
   ]
  },
  {
   "cell_type": "markdown",
   "id": "b71bc52d-f37d-45fc-aa2d-91a992245d89",
   "metadata": {},
   "source": [
    "So bascially 3x4 a.k.a total number of elements"
   ]
  },
  {
   "cell_type": "code",
   "execution_count": 197,
   "id": "f9e58cdf-7d65-4e65-96db-60abab9f9845",
   "metadata": {
    "tags": []
   },
   "outputs": [
    {
     "name": "stdout",
     "output_type": "stream",
     "text": [
      "[5 0 3 3 7 9]\n"
     ]
    },
    {
     "data": {
      "text/plain": [
       "0"
      ]
     },
     "execution_count": 197,
     "metadata": {},
     "output_type": "execute_result"
    }
   ],
   "source": [
    "print(x1)\n",
    "x1[1]"
   ]
  },
  {
   "cell_type": "code",
   "execution_count": 198,
   "id": "0c386c70-bfe3-48d2-b8e9-6ca9dea76ead",
   "metadata": {
    "tags": []
   },
   "outputs": [
    {
     "name": "stdout",
     "output_type": "stream",
     "text": [
      "[[3 5 2 4]\n",
      " [7 6 8 8]\n",
      " [1 6 7 7]]\n"
     ]
    },
    {
     "data": {
      "text/plain": [
       "3"
      ]
     },
     "execution_count": 198,
     "metadata": {},
     "output_type": "execute_result"
    }
   ],
   "source": [
    "print(x2)\n",
    "x2[0,0]"
   ]
  },
  {
   "cell_type": "code",
   "execution_count": 199,
   "id": "855fa856-15fe-4cb4-924b-4d6c384d7ae7",
   "metadata": {
    "tags": []
   },
   "outputs": [
    {
     "data": {
      "text/plain": [
       "4"
      ]
     },
     "execution_count": 199,
     "metadata": {},
     "output_type": "execute_result"
    }
   ],
   "source": [
    "x2[0,-1]"
   ]
  },
  {
   "cell_type": "code",
   "execution_count": 200,
   "id": "da01799d-92c6-4ca8-8c7d-60b3bd759ec1",
   "metadata": {
    "tags": []
   },
   "outputs": [],
   "source": [
    "x2[0,0] = 99 #modifying a given element"
   ]
  },
  {
   "cell_type": "code",
   "execution_count": 201,
   "id": "9e5e78c7-4da7-492e-9899-4680bcfe44d5",
   "metadata": {
    "tags": []
   },
   "outputs": [
    {
     "name": "stdout",
     "output_type": "stream",
     "text": [
      "[[99  5  2  4]\n",
      " [ 7  6  8  8]\n",
      " [ 1  6  7  7]]\n"
     ]
    }
   ],
   "source": [
    "print(x2)"
   ]
  },
  {
   "cell_type": "code",
   "execution_count": 202,
   "id": "f08495e5-3121-4568-85d3-6a7a4bf6baf1",
   "metadata": {
    "tags": []
   },
   "outputs": [],
   "source": [
    "x2[0,0] = 3.14"
   ]
  },
  {
   "cell_type": "code",
   "execution_count": 203,
   "id": "1595d2bc-084d-4c8b-8f1c-f644751bc7c2",
   "metadata": {
    "tags": []
   },
   "outputs": [
    {
     "name": "stdout",
     "output_type": "stream",
     "text": [
      "[[3 5 2 4]\n",
      " [7 6 8 8]\n",
      " [1 6 7 7]]\n"
     ]
    }
   ],
   "source": [
    "print(x2)"
   ]
  },
  {
   "cell_type": "markdown",
   "id": "c3a48f2d-063b-46b4-a846-0539b6575003",
   "metadata": {},
   "source": [
    "Real part of 3.14 is truncated. We only get integer part. **If you create an integer array and add a float, the float is truncated to integer part.**"
   ]
  },
  {
   "cell_type": "code",
   "execution_count": 204,
   "id": "3e833ce4-724f-4f75-a7c5-36af2c92312a",
   "metadata": {
    "tags": []
   },
   "outputs": [
    {
     "name": "stdout",
     "output_type": "stream",
     "text": [
      "[5 0 3 3 7 9]\n",
      "[0 3 3]\n",
      "[0 3]\n"
     ]
    }
   ],
   "source": [
    "print(x1)\n",
    "print(x1[1:4]) #Slicing\n",
    "print(x1[1:5:2]) #Slicing with step"
   ]
  },
  {
   "cell_type": "code",
   "execution_count": 205,
   "id": "6ece9636-8cdb-4de6-b384-fd18f3fa0bff",
   "metadata": {
    "tags": []
   },
   "outputs": [
    {
     "name": "stdout",
     "output_type": "stream",
     "text": [
      "[9 7 3 3 0 5]\n"
     ]
    }
   ],
   "source": [
    "print(x1[::-1])"
   ]
  },
  {
   "cell_type": "markdown",
   "id": "76127ff8-759d-4010-a427-c1e6ab206308",
   "metadata": {},
   "source": [
    "## Multidimensional Arrays"
   ]
  },
  {
   "cell_type": "code",
   "execution_count": 206,
   "id": "3905d44c-99d4-4588-aacd-4a85e38adafe",
   "metadata": {
    "tags": []
   },
   "outputs": [
    {
     "name": "stdout",
     "output_type": "stream",
     "text": [
      "[[3 5 2 4]\n",
      " [7 6 8 8]\n",
      " [1 6 7 7]]\n",
      "[[3 5 2]\n",
      " [7 6 8]]\n"
     ]
    }
   ],
   "source": [
    "print(x2)\n",
    "print(x2[:2,:3]) #first 2 rows and first 3 columns"
   ]
  },
  {
   "cell_type": "markdown",
   "id": "40da1862-4f99-40bd-839d-09f5cdfd9527",
   "metadata": {},
   "source": [
    "Extracting rows/columns"
   ]
  },
  {
   "cell_type": "code",
   "execution_count": 207,
   "id": "afd7be50-4481-46b5-b129-35e4bc522d9f",
   "metadata": {
    "tags": []
   },
   "outputs": [
    {
     "name": "stdout",
     "output_type": "stream",
     "text": [
      "[3 7 1]\n"
     ]
    }
   ],
   "source": [
    "print(x2[:,0])"
   ]
  },
  {
   "cell_type": "code",
   "execution_count": 208,
   "id": "c3353947-dfad-4855-9a17-29632b44d8d1",
   "metadata": {
    "tags": []
   },
   "outputs": [
    {
     "name": "stdout",
     "output_type": "stream",
     "text": [
      "[7 6 8 8]\n"
     ]
    }
   ],
   "source": [
    "print(x2[1,:]) #accessing 1st row"
   ]
  },
  {
   "cell_type": "code",
   "execution_count": 209,
   "id": "de522a91-37e1-487c-ac19-7738582e485a",
   "metadata": {
    "tags": []
   },
   "outputs": [
    {
     "name": "stdout",
     "output_type": "stream",
     "text": [
      "[7 6 8 8]\n"
     ]
    }
   ],
   "source": [
    "print(x2[1]) #optimized way to access 1st row"
   ]
  },
  {
   "cell_type": "markdown",
   "id": "442790cd-49da-42b6-8dca-baacf31bd1cd",
   "metadata": {},
   "source": [
    "Extracting submatrices"
   ]
  },
  {
   "cell_type": "code",
   "execution_count": 210,
   "id": "5cfa9287-c0f3-45bd-8c57-08a025d1b349",
   "metadata": {
    "tags": []
   },
   "outputs": [],
   "source": [
    "x2_sub = x2[:2, :2]"
   ]
  },
  {
   "cell_type": "code",
   "execution_count": 211,
   "id": "9b207e4c-9a65-45ba-a5ef-ee83fe412fe6",
   "metadata": {
    "tags": []
   },
   "outputs": [
    {
     "name": "stdout",
     "output_type": "stream",
     "text": [
      "[[3 5 2 4]\n",
      " [7 6 8 8]\n",
      " [1 6 7 7]]\n",
      "[[3 5]\n",
      " [7 6]]\n"
     ]
    }
   ],
   "source": [
    "print(x2)\n",
    "print(x2_sub)"
   ]
  },
  {
   "cell_type": "code",
   "execution_count": 212,
   "id": "4bdfcefc-92f0-4cd7-840a-46f7529eca61",
   "metadata": {
    "tags": []
   },
   "outputs": [],
   "source": [
    "x2_sub[0,0] = 99"
   ]
  },
  {
   "cell_type": "code",
   "execution_count": 213,
   "id": "2b924029-1b3b-4add-a7ca-622500fb5564",
   "metadata": {
    "tags": []
   },
   "outputs": [
    {
     "name": "stdout",
     "output_type": "stream",
     "text": [
      "[[99  5  2  4]\n",
      " [ 7  6  8  8]\n",
      " [ 1  6  7  7]]\n",
      "[[99  5]\n",
      " [ 7  6]]\n"
     ]
    }
   ],
   "source": [
    "print(x2)\n",
    "print(x2_sub)"
   ]
  },
  {
   "cell_type": "markdown",
   "id": "eda43026-8a52-4ae6-ac9f-be928c00b238",
   "metadata": {},
   "source": [
    "**NOTICE** Something strange happened! The original x2 matrix was also modified. \n",
    "How to create a copy that does not change the original array?"
   ]
  },
  {
   "cell_type": "code",
   "execution_count": 214,
   "id": "c6f60b80-d853-4e77-b62a-31b5c632e7df",
   "metadata": {
    "tags": []
   },
   "outputs": [],
   "source": [
    "x2 = np.random.randint(10, size=(3,4))"
   ]
  },
  {
   "cell_type": "code",
   "execution_count": 215,
   "id": "7a13a989-4b54-482a-9f53-286bc66a42a9",
   "metadata": {
    "tags": []
   },
   "outputs": [],
   "source": [
    "x2_copy = x2[:2,:2].copy()\n",
    "x2_copy[0,0] = 99"
   ]
  },
  {
   "cell_type": "code",
   "execution_count": 216,
   "id": "c37f644f-da44-4d18-9481-86212f2e5411",
   "metadata": {
    "tags": []
   },
   "outputs": [
    {
     "name": "stdout",
     "output_type": "stream",
     "text": [
      "[[4 3 4 4]\n",
      " [8 4 3 7]\n",
      " [5 5 0 1]]\n",
      "[[99  3]\n",
      " [ 8  4]]\n"
     ]
    }
   ],
   "source": [
    "print(x2)\n",
    "print(x2_copy)"
   ]
  },
  {
   "cell_type": "markdown",
   "id": "62886dae-30bb-4708-8845-75102928847a",
   "metadata": {},
   "source": [
    "## Splitting and merging arrays together"
   ]
  },
  {
   "cell_type": "code",
   "execution_count": 217,
   "id": "2a0c071f-095a-4e29-845b-b79582f87f07",
   "metadata": {
    "tags": []
   },
   "outputs": [],
   "source": [
    "x1 = np.random.randint(10, size=9)"
   ]
  },
  {
   "cell_type": "code",
   "execution_count": 218,
   "id": "2b31e506-de89-486c-b149-8bfc545757da",
   "metadata": {
    "tags": []
   },
   "outputs": [],
   "source": [
    "x2 = np.random.randint(10, size=(3,4))"
   ]
  },
  {
   "cell_type": "code",
   "execution_count": 219,
   "id": "1244b39f-70e3-4593-934d-a21b3ff31b3a",
   "metadata": {
    "tags": []
   },
   "outputs": [],
   "source": [
    "x3 = np.random.randint(10, size=(3,4,5))"
   ]
  },
  {
   "cell_type": "code",
   "execution_count": 220,
   "id": "4c2a7564-e799-46cd-afb7-b19879931493",
   "metadata": {
    "tags": []
   },
   "outputs": [],
   "source": [
    "x1_grid = x1.reshape((3,3))"
   ]
  },
  {
   "cell_type": "code",
   "execution_count": 221,
   "id": "fd72d2ca-741f-429f-97a3-265a2b756c8b",
   "metadata": {
    "tags": []
   },
   "outputs": [
    {
     "name": "stdout",
     "output_type": "stream",
     "text": [
      "[5 9 3 0 5 0 1 2 4]\n",
      "[[5 9 3]\n",
      " [0 5 0]\n",
      " [1 2 4]]\n"
     ]
    }
   ],
   "source": [
    "print(x1)\n",
    "print(x1_grid)"
   ]
  },
  {
   "cell_type": "markdown",
   "id": "ae2447e2-0075-4a16-97bf-28b3d9d56a37",
   "metadata": {},
   "source": [
    "What if the size is not known?"
   ]
  },
  {
   "cell_type": "code",
   "execution_count": 222,
   "id": "0126d296-a02c-4def-8c17-aae1e14653b1",
   "metadata": {
    "tags": []
   },
   "outputs": [],
   "source": [
    "x1_grid = x1.reshape((3,-1)) #-1 is a jolly value, meaning that i specified that I want 3 rows and if you find -1 you have to compute yourself how many dimensions"
   ]
  },
  {
   "cell_type": "code",
   "execution_count": 223,
   "id": "126a49c6-6947-4d73-a2c8-4b462d41442f",
   "metadata": {
    "tags": []
   },
   "outputs": [
    {
     "name": "stdout",
     "output_type": "stream",
     "text": [
      "[[5 9 3]\n",
      " [0 5 0]\n",
      " [1 2 4]]\n"
     ]
    }
   ],
   "source": [
    "print(x1_grid)"
   ]
  },
  {
   "cell_type": "code",
   "execution_count": 224,
   "id": "5e514da5-995f-404b-84e6-2d27be5b0e88",
   "metadata": {
    "tags": []
   },
   "outputs": [],
   "source": [
    "x1_grid = x1.reshape((-1,3))"
   ]
  },
  {
   "cell_type": "markdown",
   "id": "1573243f-fc45-4b43-95a1-e0377930c9bd",
   "metadata": {},
   "source": [
    "#### Going from a matrix to an array"
   ]
  },
  {
   "cell_type": "code",
   "execution_count": 225,
   "id": "30db966e-19df-415f-a7e1-19f952947283",
   "metadata": {
    "tags": []
   },
   "outputs": [],
   "source": [
    "x2_linear = x2.reshape((1,-1)) # BUT reshape(-1) doesn't make a matrix of one row, but just one array"
   ]
  },
  {
   "cell_type": "code",
   "execution_count": 226,
   "id": "79a6b06c-02be-46fb-b2dd-bb5245b73b61",
   "metadata": {
    "tags": []
   },
   "outputs": [
    {
     "name": "stdout",
     "output_type": "stream",
     "text": [
      "[[2 0 3 2]\n",
      " [0 7 5 9]\n",
      " [0 2 7 2]]\n",
      "[[2 0 3 2 0 7 5 9 0 2 7 2]]\n"
     ]
    }
   ],
   "source": [
    "print(x2)\n",
    "print(x2_linear)"
   ]
  },
  {
   "cell_type": "markdown",
   "id": "fa0a105a-dc76-4452-b97e-f123684a1ec5",
   "metadata": {},
   "source": [
    "### How to concatenate and split arrays"
   ]
  },
  {
   "cell_type": "code",
   "execution_count": 227,
   "id": "aeb8d886-7255-44e6-a491-226a77119c29",
   "metadata": {
    "tags": []
   },
   "outputs": [],
   "source": [
    "x = np.array([1,2,3])\n",
    "y = np.array([4,5,6])"
   ]
  },
  {
   "cell_type": "code",
   "execution_count": 228,
   "id": "70f7e593-f2c0-472c-8e4f-d21cf648189d",
   "metadata": {
    "tags": []
   },
   "outputs": [
    {
     "name": "stdout",
     "output_type": "stream",
     "text": [
      "[1 2 3 4 5 6]\n"
     ]
    }
   ],
   "source": [
    "new_array = np.concatenate([x,y])\n",
    "print(new_array)"
   ]
  },
  {
   "cell_type": "code",
   "execution_count": 229,
   "id": "b4b0b94b-7cfe-4205-9c5d-937983e1a89a",
   "metadata": {
    "tags": []
   },
   "outputs": [
    {
     "name": "stdout",
     "output_type": "stream",
     "text": [
      "[[1 2 3]\n",
      " [4 5 6]]\n"
     ]
    }
   ],
   "source": [
    "z = np.array([[1,2,3],\n",
    "              [4,5,6]])\n",
    "print(z)"
   ]
  },
  {
   "cell_type": "code",
   "execution_count": 230,
   "id": "d57f6831-609a-4e6d-8855-6e9290fa121f",
   "metadata": {
    "tags": []
   },
   "outputs": [
    {
     "name": "stdout",
     "output_type": "stream",
     "text": [
      "[[1 2 3]\n",
      " [4 5 6]\n",
      " [1 2 3]\n",
      " [4 5 6]]\n"
     ]
    }
   ],
   "source": [
    "new_array = np.concatenate([z,z])\n",
    "print(new_array)"
   ]
  },
  {
   "cell_type": "code",
   "execution_count": 231,
   "id": "470a1318-dcaa-4b40-be8f-a2635bda45ce",
   "metadata": {
    "tags": []
   },
   "outputs": [],
   "source": [
    "x = np.array([7,8,9])\n",
    "y = np.array([[99], [99]])"
   ]
  },
  {
   "cell_type": "code",
   "execution_count": 232,
   "id": "30f1c5ba-39ee-4056-b5b3-03eaa555f2e3",
   "metadata": {
    "tags": []
   },
   "outputs": [
    {
     "name": "stdout",
     "output_type": "stream",
     "text": [
      "[[1 2 3]\n",
      " [4 5 6]\n",
      " [7 8 9]]\n"
     ]
    }
   ],
   "source": [
    "new_array = np.vstack([z,x])\n",
    "print(new_array)"
   ]
  },
  {
   "cell_type": "code",
   "execution_count": 233,
   "id": "f5507cd1-b431-44a6-9b01-ecac8b6756dc",
   "metadata": {
    "tags": []
   },
   "outputs": [
    {
     "name": "stdout",
     "output_type": "stream",
     "text": [
      "[[ 1  2  3 99]\n",
      " [ 4  5  6 99]]\n"
     ]
    }
   ],
   "source": [
    "new_array = np.hstack([z,y])\n",
    "print(new_array)"
   ]
  },
  {
   "cell_type": "markdown",
   "id": "f7eb533f-b03e-417d-9e0c-c1b72bc7e124",
   "metadata": {},
   "source": [
    "##### Splitting arrays"
   ]
  },
  {
   "cell_type": "code",
   "execution_count": 234,
   "id": "a4f8340a-4488-42c3-b74a-d7582fcd628b",
   "metadata": {
    "tags": []
   },
   "outputs": [],
   "source": [
    "x =  np.array([1,2,3,4,5,6,7,8,9])"
   ]
  },
  {
   "cell_type": "code",
   "execution_count": 235,
   "id": "33f00723-89e6-475e-9481-71d8aecc4cb2",
   "metadata": {
    "tags": []
   },
   "outputs": [
    {
     "name": "stdout",
     "output_type": "stream",
     "text": [
      "[array([1, 2, 3]), array([4, 5, 6, 7, 8, 9])]\n"
     ]
    }
   ],
   "source": [
    "x_slice = np.split(x,[3])\n",
    "print(x_slice)"
   ]
  },
  {
   "cell_type": "code",
   "execution_count": 236,
   "id": "ded2d541-c7bf-44ab-92b8-cbac96523822",
   "metadata": {
    "tags": []
   },
   "outputs": [
    {
     "name": "stdout",
     "output_type": "stream",
     "text": [
      "[1 2 3]\n",
      "[4 5 6]\n",
      "[7 8 9]\n"
     ]
    }
   ],
   "source": [
    "x1, x2, x3 = np.split(x,[3,6])\n",
    "print(x1)\n",
    "print(x2)\n",
    "print(x3)"
   ]
  },
  {
   "cell_type": "code",
   "execution_count": 237,
   "id": "4b9889ca-7906-4b29-82ab-341cad09eccf",
   "metadata": {
    "tags": []
   },
   "outputs": [],
   "source": [
    "z = np.array([\n",
    "    [1,2,3],\n",
    "    [4,5,6],\n",
    "    [7,8,9]\n",
    "])"
   ]
  },
  {
   "cell_type": "code",
   "execution_count": 238,
   "id": "f91a33b4-eda2-48fd-9116-5702554fa605",
   "metadata": {
    "tags": []
   },
   "outputs": [
    {
     "name": "stdout",
     "output_type": "stream",
     "text": [
      "[[1 2 3]]\n",
      "[[4 5 6]\n",
      " [7 8 9]]\n"
     ]
    }
   ],
   "source": [
    "x1, x2 = np.vsplit(z,[1]) #vertically splitting the array\n",
    "print(x1)\n",
    "print(x2)"
   ]
  },
  {
   "cell_type": "code",
   "execution_count": 239,
   "id": "474fd914-1379-447a-92e1-63edbff1f13b",
   "metadata": {
    "tags": []
   },
   "outputs": [
    {
     "name": "stdout",
     "output_type": "stream",
     "text": [
      "[[1 2 3]\n",
      " [4 5 6]\n",
      " [7 8 9]]\n",
      "[[1]\n",
      " [4]\n",
      " [7]]\n",
      "[[2 3]\n",
      " [5 6]\n",
      " [8 9]]\n"
     ]
    }
   ],
   "source": [
    "x1, x2 = np.hsplit(z,[1])\n",
    "print(z)\n",
    "print(x1)\n",
    "print(x2)"
   ]
  },
  {
   "cell_type": "code",
   "execution_count": null,
   "id": "b9e3c40d-29f9-4d9d-9078-b6b825ee72bf",
   "metadata": {},
   "outputs": [],
   "source": []
  }
 ],
 "metadata": {
  "kernelspec": {
   "display_name": "Python 3 (ipykernel)",
   "language": "python",
   "name": "python3"
  },
  "language_info": {
   "codemirror_mode": {
    "name": "ipython",
    "version": 3
   },
   "file_extension": ".py",
   "mimetype": "text/x-python",
   "name": "python",
   "nbconvert_exporter": "python",
   "pygments_lexer": "ipython3",
   "version": "3.11.4"
  }
 },
 "nbformat": 4,
 "nbformat_minor": 5
}

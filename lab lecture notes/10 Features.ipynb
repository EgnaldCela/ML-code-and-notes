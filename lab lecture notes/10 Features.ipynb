{
 "cells": [
  {
   "cell_type": "markdown",
   "id": "d9d278cd-7fc5-40a4-a41a-8ff4affe9e68",
   "metadata": {
    "tags": []
   },
   "source": [
    "## Features\n",
    "A feature is a characteristic strongly descriptive about the data we are using for our problem. \n",
    "Features are not mutually exclusive.\n",
    "You can create your own features. "
   ]
  },
  {
   "cell_type": "markdown",
   "id": "ad5fce8a-e11e-4b6e-92a4-a83001087931",
   "metadata": {},
   "source": [
    "Features in images are points of images having specific meaning. example: gradient of image, color, angles, orientation, even the histogram."
   ]
  },
  {
   "cell_type": "markdown",
   "id": "635f75b1-3221-429c-b437-fa02eedc375b",
   "metadata": {},
   "source": [
    "Two types.\n",
    "1. **Global features**\n",
    "    Like the histogram, showing us distribution of whole image.\n",
    "2. **Local features** \n",
    "    Like the angles. "
   ]
  },
  {
   "cell_type": "markdown",
   "id": "74c7d3eb-5b4c-474a-ab5b-363ac915e400",
   "metadata": {},
   "source": [
    "A features returns the keypoint and the descriptor vector.  \n",
    "The keypoint contains information about the point we found inside the image for example the (x,y) coordinates.  \n",
    "\n"
   ]
  },
  {
   "cell_type": "markdown",
   "id": "5a7a4439-1b37-4764-987c-8c9be2d0ef21",
   "metadata": {},
   "source": [
    "The descriptor vector will describe the same point no matter its position in space.  "
   ]
  },
  {
   "cell_type": "code",
   "execution_count": 14,
   "id": "2193faf2-7dde-4fc5-8052-3ae691580c79",
   "metadata": {
    "tags": []
   },
   "outputs": [],
   "source": [
    "import cv2\n",
    "import numpy as np\n",
    "import matplotlib.pyplot as plt"
   ]
  },
  {
   "cell_type": "markdown",
   "id": "a981114b-aa23-40bd-97b1-d92a0bb363ea",
   "metadata": {},
   "source": [
    "### SIFT"
   ]
  },
  {
   "cell_type": "code",
   "execution_count": 5,
   "id": "cd99f14c-f567-4ce9-8d81-b93ac729906c",
   "metadata": {
    "tags": []
   },
   "outputs": [],
   "source": [
    "img = cv2.imread('C:/Users/USER/Desktop/AI Lab/Data/01-Data/lena.png')  \n",
    "\n",
    "sift = cv2.SIFT_create()\n",
    "\n",
    "#compute descriptor and the keypoint array\n",
    "keypoints, descriptor = sift.detectAndCompute(img, None) \n",
    "\n",
    "#plot the keypoints in the image\n",
    "cv2.drawKeypoints(img,keypoints,img,(255,0,0),cv2.DRAW_MATCHES_FLAGS_DRAW_RICH_KEYPOINTS) #input img, keypoints, output img\n",
    "\n",
    "cv2.imshow('Keypoints', img)\n",
    "cv2.waitKey(0)\n",
    "cv2.destroyAllWindows()\n",
    "\n",
    "# the points that stay there after transformations are used as features, they are called \"robust\""
   ]
  },
  {
   "cell_type": "markdown",
   "id": "94ef1d1f-a619-4aa8-8f3b-b750b1b3bf4a",
   "metadata": {},
   "source": [
    "The bigger the circle the more robust is the feature. If we lose a feature after one blur the circle will be very small for example\n",
    "A strong feature is a feature that you find there even if you do a full transformation on the image.  \n",
    "The meaning of the line is simply the gradient, aka the direction in which the feature is going. "
   ]
  },
  {
   "cell_type": "markdown",
   "id": "a1eba8ee-855e-4fc3-9676-5f413293c443",
   "metadata": {},
   "source": [
    "### ORB (binary descriptor)"
   ]
  },
  {
   "cell_type": "code",
   "execution_count": 9,
   "id": "5cc03fac-a800-41c7-8916-d964dad58816",
   "metadata": {
    "tags": []
   },
   "outputs": [],
   "source": [
    "img = cv2.imread('C:/Users/USER/Desktop/AI Lab/Data/01-Data/lena.png')  \n",
    "\n",
    "f_ex = cv2.ORB_create(50) #feature extractor (number of features you want extracted)\n",
    "\n",
    "#compute descriptor and the keypoint array\n",
    "keypoints, descriptor = f_ex.detectAndCompute(img, None) \n",
    "\n",
    "#plot the keypoints in the image\n",
    "cv2.drawKeypoints(img,keypoints,img,(255,0,0),cv2.DRAW_MATCHES_FLAGS_DRAW_RICH_KEYPOINTS) #input img, keypoints, output img\n",
    "\n",
    "cv2.imshow('Keypoints', img)\n",
    "cv2.waitKey(0)\n",
    "cv2.destroyAllWindows()"
   ]
  },
  {
   "cell_type": "markdown",
   "id": "454cfd90-c063-491f-bdf6-61f1bf54c0ad",
   "metadata": {},
   "source": [
    "Binary descriptors are very fast to compute but less robust wrt SIFT and SURF.  \n",
    "These algorithms are iterative, they iterate until they extract features.\n",
    "In ORB there is a lot of redundancy, there are several points extracted many times!  \n",
    "Fix this by fixing number of features you want to be extracted.\n",
    "\n",
    "**IMPORTANT** Each feature has 1 circle. Nested circles means features very very close to each other. "
   ]
  },
  {
   "cell_type": "markdown",
   "id": "e73029a9-5ef9-431f-80b1-e1b3960b2ac6",
   "metadata": {},
   "source": [
    "### Akaze"
   ]
  },
  {
   "cell_type": "code",
   "execution_count": 11,
   "id": "3d19440f-dca8-4ac4-9685-4bb36e7280a7",
   "metadata": {
    "tags": []
   },
   "outputs": [],
   "source": [
    "img = cv2.imread('C:/Users/USER/Desktop/AI Lab/Data/01-Data/lena.png')  \n",
    "\n",
    "f_ex = cv2.AKAZE_create() #feature extractor (number of features you want extracted)\n",
    "\n",
    "#compute descriptor and the keypoint array\n",
    "keypoints, descriptor = f_ex.detectAndCompute(img, None) \n",
    "\n",
    "#plot the keypoints in the image\n",
    "cv2.drawKeypoints(img,keypoints,img,(255,0,0),cv2.DRAW_MATCHES_FLAGS_DRAW_RICH_KEYPOINTS) #input img, keypoints, output img\n",
    "\n",
    "cv2.imshow('Keypoints', img)\n",
    "cv2.waitKey(0)\n",
    "cv2.destroyAllWindows()"
   ]
  },
  {
   "cell_type": "markdown",
   "id": "937af1f9-6baf-45b2-8ec4-435f547ead14",
   "metadata": {},
   "source": [
    "The way akaze chooses features is different from ORB.  \n",
    "The features of Akaze are not so robust."
   ]
  }
 ],
 "metadata": {
  "kernelspec": {
   "display_name": "Python 3 (ipykernel)",
   "language": "python",
   "name": "python3"
  },
  "language_info": {
   "codemirror_mode": {
    "name": "ipython",
    "version": 3
   },
   "file_extension": ".py",
   "mimetype": "text/x-python",
   "name": "python",
   "nbconvert_exporter": "python",
   "pygments_lexer": "ipython3",
   "version": "3.12.7"
  }
 },
 "nbformat": 4,
 "nbformat_minor": 5
}

{
 "cells": [
  {
   "cell_type": "code",
   "execution_count": null,
   "id": "b701e0e6-2120-4776-8b2c-27214b285e86",
   "metadata": {
    "tags": []
   },
   "outputs": [],
   "source": [
    "import cv2\n",
    "import numpy as np\n",
    "import matplotlib.pyplot as plt"
   ]
  },
  {
   "cell_type": "code",
   "execution_count": 4,
   "id": "5b1cb279-1789-4cb9-9af4-0825d0d4f6f5",
   "metadata": {
    "tags": []
   },
   "outputs": [],
   "source": [
    "img = cv2.imread('C:/Users/USER/Desktop/AI Lab/Data/01-Data/tsukuba.png', 0)\n",
    "\n",
    "eq_img = cv2.equalizeHist(img)\n",
    "\n",
    "show_img = np.hstack([img, eq_img])\n",
    "cv2.imshow(\"Image\",show_img)\n",
    "cv2.waitKey(0)\n",
    "cv2.destroyAllWindows()\n",
    "\n",
    "# We gain details of the background but we totally lose details of the statue. How to fix it?\n"
   ]
  },
  {
   "cell_type": "markdown",
   "id": "b112cf05-dfce-4f86-943e-c634cac2b510",
   "metadata": {},
   "source": [
    "## Clahe creation\n",
    "##### Equalization done on a patch (on a side of the image)"
   ]
  },
  {
   "cell_type": "code",
   "execution_count": 11,
   "id": "f1658d91-af35-474d-8c9c-7592d4da3830",
   "metadata": {
    "tags": []
   },
   "outputs": [],
   "source": [
    "clahe = cv2.createCLAHE(clipLimit=2.0, tileGridSize=(8,8)) #you equalize on patches. equalize on 8x8 pieces of the image\n",
    "clahe_img = clahe.apply(img) #by definition starts by top left corner\n",
    "eq_img = cv2.equalizeHist(img)\n",
    "\n",
    "show_img = np.hstack([img, eq_img, clahe_img])\n",
    "cv2.imshow(\"Image\",show_img)\n",
    "cv2.waitKey(0)\n",
    "cv2.destroyAllWindows()"
   ]
  }
 ],
 "metadata": {
  "kernelspec": {
   "display_name": "Python 3 (ipykernel)",
   "language": "python",
   "name": "python3"
  },
  "language_info": {
   "codemirror_mode": {
    "name": "ipython",
    "version": 3
   },
   "file_extension": ".py",
   "mimetype": "text/x-python",
   "name": "python",
   "nbconvert_exporter": "python",
   "pygments_lexer": "ipython3",
   "version": "3.12.7"
  }
 },
 "nbformat": 4,
 "nbformat_minor": 5
}
